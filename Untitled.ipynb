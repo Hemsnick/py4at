{
 "cells": [
  {
   "cell_type": "code",
   "execution_count": 31,
   "id": "6feed14d",
   "metadata": {},
   "outputs": [
    {
     "name": "stdout",
     "output_type": "stream",
     "text": [
      "2\n",
      "3\n",
      "5\n",
      "11\n",
      "17\n"
     ]
    }
   ],
   "source": [
    "list1= []\n",
    "for i in range(1,1000):\n",
    "    for j in range(2,i):\n",
    "        if i % j ==0:\n",
    "            break\n",
    "    else:\n",
    "        list1.append(i)\n",
    "\n",
    "for i in range(100):\n",
    "    if 2**i -1 in list1:\n",
    "        print(list1[i])\n",
    "\n",
    "    \n",
    "# n = 10\n",
    "# a=3\n",
    "# list1=[]\n",
    "# while len(list1)< n:\n",
    "\n",
    "#     for i in range(2,a):\n",
    "#         for j in range(2,i-1):\n",
    "#             if i % j ==0:\n",
    "#                 break\n",
    "#         else:\n",
    "#             list1.append(i)\n",
    "#     a += 1 \n",
    "#     list1=list(set(list1))\n",
    "\n",
    "list1"
   ]
  },
  {
   "cell_type": "code",
   "execution_count": 110,
   "id": "32f4d32b",
   "metadata": {},
   "outputs": [
    {
     "ename": "KeyboardInterrupt",
     "evalue": "",
     "output_type": "error",
     "traceback": [
      "\u001b[0;31m---------------------------------------------------------------------------\u001b[0m",
      "\u001b[0;31mKeyboardInterrupt\u001b[0m                         Traceback (most recent call last)",
      "\u001b[0;32m/var/folders/9x/8jkp3nzj0sj4g7w0s98xq_2m0000gn/T/ipykernel_8937/3114190541.py\u001b[0m in \u001b[0;36m<module>\u001b[0;34m\u001b[0m\n\u001b[1;32m      7\u001b[0m \u001b[0;34m\u001b[0m\u001b[0m\n\u001b[1;32m      8\u001b[0m     \u001b[0;32mfor\u001b[0m \u001b[0mi\u001b[0m \u001b[0;32min\u001b[0m \u001b[0mrange\u001b[0m\u001b[0;34m(\u001b[0m\u001b[0;36m2\u001b[0m\u001b[0;34m,\u001b[0m\u001b[0ma\u001b[0m\u001b[0;34m)\u001b[0m\u001b[0;34m:\u001b[0m \u001b[0;31m# 增加質數\u001b[0m\u001b[0;34m\u001b[0m\u001b[0;34m\u001b[0m\u001b[0m\n\u001b[0;32m----> 9\u001b[0;31m         \u001b[0;32mif\u001b[0m \u001b[0ma\u001b[0m \u001b[0;34m%\u001b[0m \u001b[0mi\u001b[0m \u001b[0;34m==\u001b[0m \u001b[0;36m0\u001b[0m\u001b[0;34m:\u001b[0m\u001b[0;34m\u001b[0m\u001b[0;34m\u001b[0m\u001b[0m\n\u001b[0m\u001b[1;32m     10\u001b[0m             \u001b[0;32mbreak\u001b[0m\u001b[0;34m\u001b[0m\u001b[0;34m\u001b[0m\u001b[0m\n\u001b[1;32m     11\u001b[0m     \u001b[0;32melse\u001b[0m\u001b[0;34m:\u001b[0m\u001b[0;34m\u001b[0m\u001b[0;34m\u001b[0m\u001b[0m\n",
      "\u001b[0;31mKeyboardInterrupt\u001b[0m: "
     ]
    }
   ],
   "source": [
    "n = 5\n",
    "a=3\n",
    "s=1\n",
    "list1=[] # 質數\n",
    "list2=[] # 梅森質數\n",
    "while len(list2)< 2: #  條件：找出5個梅森質數\n",
    "    \n",
    "    for i in range(2,a): # 增加質數\n",
    "        if a % i == 0:\n",
    "            break\n",
    "    else:\n",
    "        list1.append(a)\n",
    "#     if (a**2-1) in list1:\n",
    "#         list2.append((a+1)**0.5)\n",
    "    while s<len(list1):\n",
    "        if s**2-1 in list1:\n",
    "            list2.append(s**2-1)\n",
    "        s+=1\n",
    "    a+=1\n",
    "print(list1)\n",
    "#     for m in range(len(list1)): # 增加梅森質數\n",
    "#         if 2**m-1 in list1 and 2**m-1 not in list2:\n",
    "#             list2.append(2**m-1)\n",
    "#         else:\n",
    "#             pass\n",
    "        \n",
    "print(list2)"
   ]
  },
  {
   "cell_type": "code",
   "execution_count": 82,
   "id": "46c4ee9b",
   "metadata": {},
   "outputs": [
    {
     "name": "stdout",
     "output_type": "stream",
     "text": [
      "[2, 3, 5, 7, 11, 13, 17, 19, 23, 29, 31, 37, 41, 43, 47, 53, 59, 61, 67, 71, 73, 79, 83, 89, 97, 101, 103, 107, 109, 113, 127, 131, 137, 139, 149, 151, 157, 163, 167, 173, 179, 181, 191, 193, 197, 199, 211, 223, 227, 229, 233, 239, 241, 251, 257, 263, 269, 271, 277, 281, 283, 293, 307, 311, 313, 317, 331, 337, 347, 349, 353, 359, 367, 373, 379, 383, 389, 397, 401, 409, 419, 421, 431, 433, 439, 443, 449, 457, 461, 463, 467, 479, 487, 491, 499, 503, 509, 521, 523, 541, 547, 557, 563, 569, 571, 577, 587, 593, 599, 601, 607, 613, 617, 619, 631, 641, 643, 647, 653, 659, 661, 673, 677, 683, 691, 701, 709, 719, 727, 733, 739, 743, 751, 757, 761, 769, 773, 787, 797, 809, 811, 821, 823, 827, 829, 839, 853, 857, 859, 863, 877, 881, 883, 887, 907, 911, 919, 929, 937, 941, 947, 953, 967, 971, 977, 983, 991, 997]\n"
     ]
    },
    {
     "data": {
      "text/plain": [
       "[3, 7, 31, 127]"
      ]
     },
     "execution_count": 82,
     "metadata": {},
     "output_type": "execute_result"
    }
   ],
   "source": [
    "def show_prime(n):\n",
    "    list1= []\n",
    "    for i in range(2,1000):\n",
    "        for j in range(2,i):\n",
    "            if i % j ==0:\n",
    "                break\n",
    "        else:\n",
    "            list1.append(i)\n",
    "    print(list1)\n",
    "    list2= []\n",
    "    for i in range(100):\n",
    "        if (2**i -1) in list1:\n",
    "            list2.append(2**i -1)\n",
    "    return list2[:n]\n",
    "\n",
    "show_prime(5)"
   ]
  },
  {
   "cell_type": "code",
   "execution_count": 65,
   "id": "71cb36cf",
   "metadata": {},
   "outputs": [],
   "source": [
    "def show_prime_mersenne(n):\n",
    "    list1=[]\n",
    "    list2= []\n",
    "    a=3\n",
    "    while len(list1)< n:\n",
    "\n",
    "        for i in range(2,a):\n",
    "            for j in range(2,i-1):\n",
    "                if i % j ==0:\n",
    "                    break\n",
    "            else:\n",
    "                list1.append(i)\n",
    "        a += 1 \n",
    "        list1=list(set(list1))\n",
    "        \n",
    "        if \n",
    "    return list1"
   ]
  },
  {
   "cell_type": "code",
   "execution_count": 66,
   "id": "360f8d27",
   "metadata": {},
   "outputs": [
    {
     "ename": "KeyboardInterrupt",
     "evalue": "",
     "output_type": "error",
     "traceback": [
      "\u001b[0;31m---------------------------------------------------------------------------\u001b[0m",
      "\u001b[0;31mKeyboardInterrupt\u001b[0m                         Traceback (most recent call last)",
      "\u001b[0;32m/var/folders/9x/8jkp3nzj0sj4g7w0s98xq_2m0000gn/T/ipykernel_8937/1570402173.py\u001b[0m in \u001b[0;36m<module>\u001b[0;34m\u001b[0m\n\u001b[0;32m----> 1\u001b[0;31m \u001b[0mshow_prime_mersenne\u001b[0m\u001b[0;34m(\u001b[0m\u001b[0;36m5\u001b[0m\u001b[0;34m)\u001b[0m\u001b[0;34m\u001b[0m\u001b[0;34m\u001b[0m\u001b[0m\n\u001b[0m",
      "\u001b[0;32m/var/folders/9x/8jkp3nzj0sj4g7w0s98xq_2m0000gn/T/ipykernel_8937/243273082.py\u001b[0m in \u001b[0;36mshow_prime_mersenne\u001b[0;34m(n)\u001b[0m\n\u001b[1;32m      7\u001b[0m         \u001b[0;32mfor\u001b[0m \u001b[0mi\u001b[0m \u001b[0;32min\u001b[0m \u001b[0mrange\u001b[0m\u001b[0;34m(\u001b[0m\u001b[0;36m2\u001b[0m\u001b[0;34m,\u001b[0m\u001b[0ma\u001b[0m\u001b[0;34m)\u001b[0m\u001b[0;34m:\u001b[0m\u001b[0;34m\u001b[0m\u001b[0;34m\u001b[0m\u001b[0m\n\u001b[1;32m      8\u001b[0m             \u001b[0;32mfor\u001b[0m \u001b[0mj\u001b[0m \u001b[0;32min\u001b[0m \u001b[0mrange\u001b[0m\u001b[0;34m(\u001b[0m\u001b[0;36m2\u001b[0m\u001b[0;34m,\u001b[0m\u001b[0mi\u001b[0m\u001b[0;34m-\u001b[0m\u001b[0;36m1\u001b[0m\u001b[0;34m)\u001b[0m\u001b[0;34m:\u001b[0m\u001b[0;34m\u001b[0m\u001b[0;34m\u001b[0m\u001b[0m\n\u001b[0;32m----> 9\u001b[0;31m                 \u001b[0;32mif\u001b[0m \u001b[0mi\u001b[0m \u001b[0;34m%\u001b[0m \u001b[0mj\u001b[0m \u001b[0;34m==\u001b[0m\u001b[0;36m0\u001b[0m\u001b[0;34m:\u001b[0m\u001b[0;34m\u001b[0m\u001b[0;34m\u001b[0m\u001b[0m\n\u001b[0m\u001b[1;32m     10\u001b[0m                     \u001b[0;32mbreak\u001b[0m\u001b[0;34m\u001b[0m\u001b[0;34m\u001b[0m\u001b[0m\n\u001b[1;32m     11\u001b[0m             \u001b[0;32melse\u001b[0m\u001b[0;34m:\u001b[0m\u001b[0;34m\u001b[0m\u001b[0;34m\u001b[0m\u001b[0m\n",
      "\u001b[0;31mKeyboardInterrupt\u001b[0m: "
     ]
    }
   ],
   "source": [
    "show_prime_mersenne(5)"
   ]
  },
  {
   "cell_type": "code",
   "execution_count": 56,
   "id": "54b8155c",
   "metadata": {},
   "outputs": [
    {
     "name": "stdout",
     "output_type": "stream",
     "text": [
      "5\n",
      "7\n"
     ]
    }
   ],
   "source": [
    "for i in range(100):\n",
    "    if 2**i -1 in list1:\n",
    "        print(list1[i])"
   ]
  },
  {
   "cell_type": "code",
   "execution_count": null,
   "id": "c9d701b8",
   "metadata": {},
   "outputs": [],
   "source": [
    "    for i in range(100):\n",
    "        if 2**i -1 in list1:\n",
    "            list2.append(list1[i])\n",
    "    return list2[:n]"
   ]
  },
  {
   "cell_type": "code",
   "execution_count": 67,
   "id": "352f0cea",
   "metadata": {},
   "outputs": [
    {
     "data": {
      "text/plain": [
       "0"
      ]
     },
     "execution_count": 67,
     "metadata": {},
     "output_type": "execute_result"
    }
   ],
   "source": [
    "1 %1 "
   ]
  },
  {
   "cell_type": "code",
   "execution_count": 78,
   "id": "b03540c9",
   "metadata": {},
   "outputs": [
    {
     "name": "stdout",
     "output_type": "stream",
     "text": [
      "17.288387060165405\n"
     ]
    }
   ],
   "source": [
    "import time\n",
    "start = time.time()\n",
    "list1 = [i for i in range(1,1_000_000_000)]\n",
    "print(time.time()-start)"
   ]
  },
  {
   "cell_type": "code",
   "execution_count": 76,
   "id": "6922d262",
   "metadata": {},
   "outputs": [
    {
     "name": "stderr",
     "output_type": "stream",
     "text": [
      "UsageError: Cell magic `%%` not found.\n"
     ]
    }
   ],
   "source": [
    "%% time\n",
    "list1 = []\n",
    "for i in range(1,1_000_000_000):\n",
    "    list1.append(i)"
   ]
  },
  {
   "cell_type": "code",
   "execution_count": 71,
   "id": "69974117",
   "metadata": {},
   "outputs": [
    {
     "data": {
      "text/plain": [
       "[1, 2]"
      ]
     },
     "execution_count": 71,
     "metadata": {},
     "output_type": "execute_result"
    }
   ],
   "source": [
    "list1"
   ]
  },
  {
   "cell_type": "code",
   "execution_count": 13,
   "id": "7a41c1fb",
   "metadata": {},
   "outputs": [
    {
     "name": "stdout",
     "output_type": "stream",
     "text": [
      "請問要做到費氏數列第幾項1\n"
     ]
    }
   ],
   "source": [
    "def fun(n):\n",
    "    if n < 2:#這行 為什麼是小於2\n",
    "        return n\n",
    "    else:\n",
    "        return fun(n-1) + fun(n-2)\n",
    "\n",
    "\n",
    "data = int(input('請問要做到費氏數列第幾項'))"
   ]
  },
  {
   "cell_type": "code",
   "execution_count": 4,
   "id": "4c588f9b",
   "metadata": {},
   "outputs": [
    {
     "data": {
      "text/plain": [
       "2"
      ]
     },
     "execution_count": 4,
     "metadata": {},
     "output_type": "execute_result"
    }
   ],
   "source": [
    "def n(x):\n",
    "    if x<=1:\n",
    "        return x\n",
    "    result = n(x-1) + n(x-2)\n",
    "    return result\n",
    "n(3)"
   ]
  },
  {
   "cell_type": "code",
   "execution_count": 10,
   "id": "10f62947",
   "metadata": {},
   "outputs": [
    {
     "data": {
      "text/plain": [
       "55"
      ]
     },
     "execution_count": 10,
     "metadata": {},
     "output_type": "execute_result"
    }
   ],
   "source": [
    "def fibonacci(n):\n",
    "    if n == 1:\n",
    "        return 1\n",
    "    if n == 0 :\n",
    "        return 0\n",
    "    result = fibonacci(n-1) + fibonacci(n-2)\n",
    "    return result\n",
    "\n",
    "fibonacci(10)"
   ]
  },
  {
   "cell_type": "code",
   "execution_count": 28,
   "id": "6af400e2",
   "metadata": {},
   "outputs": [
    {
     "name": "stdout",
     "output_type": "stream",
     "text": [
      "___ * \n",
      "__ *  * \n",
      "_ *  *  * \n",
      " *  *  *  * \n"
     ]
    }
   ],
   "source": [
    "for i in range(4):        \n",
    "    for j in range(4 - i- 1): #這行不理解，且為何要寫到三個迴圈\n",
    "        print(\"_\", end = \"\" )\n",
    "    for k in range(i + 1):               \n",
    "        print(\" * \", end = \"\" )\n",
    "    print()"
   ]
  },
  {
   "cell_type": "code",
   "execution_count": 36,
   "id": "94cbabc4",
   "metadata": {},
   "outputs": [
    {
     "name": "stdout",
     "output_type": "stream",
     "text": [
      "3\n"
     ]
    }
   ],
   "source": [
    "def a(x):\n",
    "    return x+1\n",
    "@a\n",
    "def b(y):\n",
    "    return y*2\n",
    "if __name__=='__main__':\n",
    "    s = b(1)\n",
    "    print(a(2))\n"
   ]
  },
  {
   "cell_type": "code",
   "execution_count": null,
   "id": "51c0bb7a",
   "metadata": {},
   "outputs": [],
   "source": []
  }
 ],
 "metadata": {
  "kernelspec": {
   "display_name": "Python 3 (ipykernel)",
   "language": "python",
   "name": "python3"
  },
  "language_info": {
   "codemirror_mode": {
    "name": "ipython",
    "version": 3
   },
   "file_extension": ".py",
   "mimetype": "text/x-python",
   "name": "python",
   "nbconvert_exporter": "python",
   "pygments_lexer": "ipython3",
   "version": "3.9.1"
  }
 },
 "nbformat": 4,
 "nbformat_minor": 5
}
